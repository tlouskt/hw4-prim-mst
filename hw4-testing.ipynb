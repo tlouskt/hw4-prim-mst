{
 "cells": [
  {
   "cell_type": "code",
   "execution_count": 1,
   "id": "9bf4263c",
   "metadata": {},
   "outputs": [],
   "source": [
    "import mst\n",
    "import numpy as np\n",
    "import heapq\n",
    "from typing import Union"
   ]
  },
  {
   "cell_type": "code",
   "execution_count": 2,
   "id": "0a5b66e0",
   "metadata": {},
   "outputs": [
    {
     "data": {
      "text/plain": [
       "array([[0., 5., 0., 5.],\n",
       "       [5., 0., 1., 2.],\n",
       "       [0., 1., 0., 4.],\n",
       "       [5., 2., 4., 0.]])"
      ]
     },
     "execution_count": 2,
     "metadata": {},
     "output_type": "execute_result"
    }
   ],
   "source": [
    "adjacency_mat = mst.Graph('data/small.csv')\n",
    "adjacency_mat.adj_mat"
   ]
  },
  {
   "cell_type": "code",
   "execution_count": 4,
   "id": "8147c1b1",
   "metadata": {},
   "outputs": [
    {
     "data": {
      "text/plain": [
       "4"
      ]
     },
     "execution_count": 4,
     "metadata": {},
     "output_type": "execute_result"
    }
   ],
   "source": [
    "len(adjacency_mat.adj_mat)"
   ]
  },
  {
   "cell_type": "code",
   "execution_count": 3,
   "id": "a2b7bb91",
   "metadata": {},
   "outputs": [],
   "source": [
    "import networkx as nx\n",
    "import matplotlib.pyplot as plt"
   ]
  },
  {
   "cell_type": "code",
   "execution_count": 24,
   "id": "31cd4178",
   "metadata": {
    "scrolled": true
   },
   "outputs": [
    {
     "data": {
      "image/png": "[encoded data removed]",
      "text/plain": [
       "<Figure size 432x288 with 1 Axes>"
      ]
     },
     "metadata": {},
     "output_type": "display_data"
    }
   ],
   "source": [
    "g_vis = nx.from_numpy_array(g)\n",
    "nx.draw(g_vis, with_labels = True)\n",
    "labels = nx.get_edge_attributes(g_vis,'weight')\n",
    "nx.draw_networkx_edge_labels(g_vis, pos=nx.spring_layout(g_vis), edge_labels=labels)\n",
    "plt.show()"
   ]
  },
  {
   "cell_type": "code",
   "execution_count": 33,
   "id": "d5785da1",
   "metadata": {},
   "outputs": [],
   "source": [
    "g = adjacency_mat.adj_mat"
   ]
  },
  {
   "cell_type": "code",
   "execution_count": 34,
   "id": "94b3c020",
   "metadata": {},
   "outputs": [
    {
     "data": {
      "text/plain": [
       "4"
      ]
     },
     "execution_count": 34,
     "metadata": {},
     "output_type": "execute_result"
    }
   ],
   "source": [
    "g.shape[0]"
   ]
  },
  {
   "cell_type": "code",
   "execution_count": 35,
   "id": "e2ab499c",
   "metadata": {},
   "outputs": [
    {
     "data": {
      "text/plain": [
       "numpy.ndarray"
      ]
     },
     "execution_count": 35,
     "metadata": {},
     "output_type": "execute_result"
    }
   ],
   "source": [
    "type(g)"
   ]
  },
  {
   "cell_type": "code",
   "execution_count": 37,
   "id": "876e3f21",
   "metadata": {},
   "outputs": [
    {
     "name": "stdout",
     "output_type": "stream",
     "text": [
      "1\n"
     ]
    }
   ],
   "source": [
    "start = np.random.randint(len(g))\n",
    "print(start)"
   ]
  },
  {
   "cell_type": "code",
   "execution_count": 38,
   "id": "0c329a20",
   "metadata": {},
   "outputs": [
    {
     "name": "stdout",
     "output_type": "stream",
     "text": [
      "[(0, 1)]\n"
     ]
    }
   ],
   "source": [
    "heap = [(0, start)]\n",
    "print(heap)"
   ]
  },
  {
   "cell_type": "code",
   "execution_count": 39,
   "id": "895fed9c",
   "metadata": {},
   "outputs": [
    {
     "name": "stdout",
     "output_type": "stream",
     "text": [
      "[[0. 0. 0. 0.]\n",
      " [0. 0. 0. 0.]\n",
      " [0. 0. 0. 0.]\n",
      " [0. 0. 0. 0.]]\n",
      "<class 'numpy.ndarray'>\n"
     ]
    }
   ],
   "source": [
    "mst = np.zeros_like(g)\n",
    "print(mst)\n",
    "print(type(mst))"
   ]
  },
  {
   "cell_type": "code",
   "execution_count": 40,
   "id": "9fd63d06",
   "metadata": {},
   "outputs": [
    {
     "name": "stdout",
     "output_type": "stream",
     "text": [
      "{1}\n"
     ]
    }
   ],
   "source": [
    "visited = set()\n",
    "visited.add(start)\n",
    "print(visited)"
   ]
  },
  {
   "cell_type": "code",
   "execution_count": 41,
   "id": "f665dd96",
   "metadata": {},
   "outputs": [
    {
     "name": "stdout",
     "output_type": "stream",
     "text": [
      "4\n",
      "<class 'int'>\n"
     ]
    }
   ],
   "source": [
    "total_nodes = len(g)\n",
    "print(total_nodes)\n",
    "print(type(total_nodes))"
   ]
  },
  {
   "cell_type": "code",
   "execution_count": 42,
   "id": "2bcc2c65",
   "metadata": {},
   "outputs": [
    {
     "name": "stdout",
     "output_type": "stream",
     "text": [
      "0 1\n"
     ]
    }
   ],
   "source": [
    "weight, to = heapq.heappop(heap)\n",
    "print(weight, to)"
   ]
  },
  {
   "cell_type": "code",
   "execution_count": 43,
   "id": "8e3ac85d",
   "metadata": {},
   "outputs": [
    {
     "name": "stdout",
     "output_type": "stream",
     "text": [
      "[(0, 5.0), (1, 2.0), (2, 4.0), (3, 0.0)]\n"
     ]
    }
   ],
   "source": [
    "enumerate(g[3])\n",
    "print(list(enumerate(g[3])))"
   ]
  },
  {
   "cell_type": "code",
   "execution_count": 44,
   "id": "8b773bb5",
   "metadata": {},
   "outputs": [],
   "source": [
    "g = adjacency_mat.adj_mat\n",
    "start = start = np.random.randint(len(g))\n",
    "visited = set([start])\n",
    "\n",
    "total_nodes = set(range(len(g)))\n",
    "\n",
    "mst = np.zeros_like(g)\n",
    "heap = [(0, start)]"
   ]
  },
  {
   "cell_type": "code",
   "execution_count": null,
   "id": "70519fca",
   "metadata": {},
   "outputs": [],
   "source": [
    "print(heap)"
   ]
  },
  {
   "cell_type": "code",
   "execution_count": null,
   "id": "53c80fab",
   "metadata": {},
   "outputs": [],
   "source": [
    "while visited != total_nodes:\n",
    "    if len(heap) == 0:\n",
    "        print('heap is empty')\n",
    "    weight, to = heapq.heappop(heap)\n",
    "    if to in visited:\n",
    "        continue\n",
    "    visited.add(to)\n",
    "    for idx, edge_val in enumerate(g[to]):\n",
    "        if edge_val != 0 and idx not in visited:\n",
    "            heapq.heappush(heap, (edge_val, idx))\n",
    "            mst[to, idx] = mst edge_val\n",
    "            mst[idx, to] = edge_val\n",
    "            \n",
    "   "
   ]
  },
  {
   "cell_type": "code",
   "execution_count": 69,
   "id": "af74eda7",
   "metadata": {},
   "outputs": [
    {
     "data": {
      "text/plain": [
       "5.0"
      ]
     },
     "execution_count": 69,
     "metadata": {},
     "output_type": "execute_result"
    }
   ],
   "source": [
    "g[0,3]"
   ]
  },
  {
   "cell_type": "code",
   "execution_count": 60,
   "id": "ada23bc8",
   "metadata": {},
   "outputs": [
    {
     "name": "stdout",
     "output_type": "stream",
     "text": [
      "range(0, 4)\n",
      "4\n"
     ]
    }
   ],
   "source": [
    "print(range(len(g)))\n",
    "print(len(g))"
   ]
  },
  {
   "cell_type": "code",
   "execution_count": 154,
   "id": "bb3ac788",
   "metadata": {},
   "outputs": [
    {
     "name": "stdout",
     "output_type": "stream",
     "text": [
      "{0}\n"
     ]
    }
   ],
   "source": [
    "num_nodes = len(g)\n",
    "mst=np.zeros_like(g)\n",
    "#start = np.random.randint(0, num_nodes)\n",
    "start = 0\n",
    "edge_heap = []\n",
    "heapq.heapify(edge_heap)\n",
    "visited=set([start])\n",
    "print(visited)"
   ]
  },
  {
   "cell_type": "code",
   "execution_count": 155,
   "id": "f268a652",
   "metadata": {},
   "outputs": [],
   "source": [
    "for n in range(num_nodes):\n",
    "    weight = g[start, n]\n",
    "    if weight != 0:\n",
    "        heapq.heappush(edge_heap, (weight, start, n))"
   ]
  },
  {
   "cell_type": "code",
   "execution_count": 156,
   "id": "58b43691",
   "metadata": {},
   "outputs": [
    {
     "name": "stdout",
     "output_type": "stream",
     "text": [
      "[(5.0, 0, 1), (5.0, 0, 3)]\n"
     ]
    }
   ],
   "source": [
    "print(edge_heap)"
   ]
  },
  {
   "cell_type": "code",
   "execution_count": 157,
   "id": "e4eafce5",
   "metadata": {},
   "outputs": [],
   "source": [
    "visited.add(start)"
   ]
  },
  {
   "cell_type": "code",
   "execution_count": 158,
   "id": "e59149b5",
   "metadata": {
    "scrolled": true
   },
   "outputs": [
    {
     "name": "stdout",
     "output_type": "stream",
     "text": [
      "[(5.0, 0, 1), (5.0, 0, 3)]\n",
      "[(5.0, 0, 3)]\n",
      "[(1.0, 1, 2), (2.0, 1, 3), (5.0, 0, 3), (5.0, 1, 0)]\n",
      "[(2.0, 1, 3), (5.0, 1, 0), (5.0, 0, 3)]\n",
      "[(1.0, 2, 1), (2.0, 1, 3), (5.0, 0, 3), (5.0, 1, 0), (4.0, 2, 3)]\n",
      "[(2.0, 1, 3), (4.0, 2, 3), (5.0, 0, 3), (5.0, 1, 0)]\n",
      "[(2.0, 1, 3), (4.0, 2, 3), (5.0, 0, 3), (5.0, 1, 0)]\n",
      "[(4.0, 2, 3), (5.0, 1, 0), (5.0, 0, 3)]\n"
     ]
    },
    {
     "data": {
      "text/plain": [
       "array([[0., 5., 0., 0.],\n",
       "       [5., 0., 1., 2.],\n",
       "       [0., 1., 0., 0.],\n",
       "       [0., 2., 0., 0.]])"
      ]
     },
     "execution_count": 158,
     "metadata": {},
     "output_type": "execute_result"
    }
   ],
   "source": [
    "while len(visited) != num_nodes:\n",
    "    print(edge_heap)\n",
    "    weight, start, to = heapq.heappop(edge_heap)\n",
    "    print(edge_heap)\n",
    "    \n",
    "    if to in visited:\n",
    "        continue\n",
    "    visited.add(to)\n",
    "    mst[start,to] = mst [to, start] = weight\n",
    "    \n",
    "    for n in range(num_nodes):\n",
    "        weight = g[to, n]\n",
    "        if weight != 0:\n",
    "            heapq.heappush(edge_heap, (weight, to, n))\n",
    "            \n",
    "mst"
   ]
  },
  {
   "cell_type": "code",
   "execution_count": 150,
   "id": "415107f1",
   "metadata": {},
   "outputs": [],
   "source": [
    "def prim(graph):\n",
    "    \n",
    "    if np.sum(graph) == 0:\n",
    "        raise ValueError('No edge exists')\n",
    "    \n",
    "    num_nodes = len(graph)\n",
    "    mst=np.zeros_like(graph)\n",
    "    start = np.random.randint(0, num_nodes)\n",
    "    edge_heap = []\n",
    "    visited=set([start])\n",
    "    \n",
    "    for n in range(num_nodes):\n",
    "        weight = graph[start, n]\n",
    "        if weight == 0:\n",
    "            continue\n",
    "        heapq.heappush(edge_heap, (weight, start, n))\n",
    "        heapq.heapify(edge_heap)\n",
    "        print(edge_heap)\n",
    "            \n",
    "    while len(visited) != num_nodes:\n",
    "        \n",
    "        if len(edge_heap) == 0:\n",
    "            raise ValueError('Heap is empty. Nodes are not connected')\n",
    "        \n",
    "        weight, start, to = heapq.heappop(edge_heap)\n",
    "        heapq.heapify(edge_heap)\n",
    "        #print(edge_heap)\n",
    "\n",
    "        if to in visited:\n",
    "            continue\n",
    "        visited.add(to)\n",
    "        mst[start,to] = mst [to, start] = weight\n",
    "\n",
    "        for n in range(num_nodes):\n",
    "            weight = graph[to, n]\n",
    "            if weight != 0:\n",
    "                heapq.heappush(edge_heap, (weight, to, n))\n",
    "                heapq.heapify(edge_heap)\n",
    "    return mst"
   ]
  },
  {
   "cell_type": "code",
   "execution_count": 151,
   "id": "001e8859",
   "metadata": {},
   "outputs": [
    {
     "name": "stdout",
     "output_type": "stream",
     "text": [
      "[(5.0, 1, 0)]\n",
      "[(1.0, 1, 2), (5.0, 1, 0)]\n",
      "[(1.0, 1, 2), (5.0, 1, 0), (2.0, 1, 3)]\n"
     ]
    }
   ],
   "source": [
    "mst_small = prim(g)"
   ]
  },
  {
   "cell_type": "code",
   "execution_count": 148,
   "id": "c0ddf974",
   "metadata": {},
   "outputs": [
    {
     "data": {
      "text/plain": [
       "array([[0., 5., 0., 0.],\n",
       "       [5., 0., 1., 2.],\n",
       "       [0., 1., 0., 0.],\n",
       "       [0., 2., 0., 0.]])"
      ]
     },
     "execution_count": 148,
     "metadata": {},
     "output_type": "execute_result"
    }
   ],
   "source": [
    "mst_small"
   ]
  },
  {
   "cell_type": "code",
   "execution_count": 126,
   "id": "0406eaa8",
   "metadata": {},
   "outputs": [
    {
     "data": {
      "text/plain": [
       "16.0"
      ]
     },
     "execution_count": 126,
     "metadata": {},
     "output_type": "execute_result"
    }
   ],
   "source": [
    "np.sum(mst_small)"
   ]
  },
  {
   "cell_type": "code",
   "execution_count": 118,
   "id": "7be96ff5",
   "metadata": {},
   "outputs": [
    {
     "name": "stdout",
     "output_type": "stream",
     "text": [
      "[(8, 3, 1), (9, 3, 4)]\n",
      "[(6, 0, 3), (9, 3, 4), (8, 3, 1)]\n",
      "[(3, 1, 2), (6, 0, 3), (5, 1, 4), (9, 3, 4), (8, 1, 3), (8, 3, 1)]\n",
      "[(5, 1, 4), (6, 0, 3), (8, 3, 1), (9, 3, 4), (8, 1, 3)]\n",
      "[(5, 1, 4), (6, 0, 3), (7, 2, 4), (9, 3, 4), (8, 1, 3), (8, 3, 1)]\n",
      "[(6, 0, 3), (8, 1, 3), (7, 2, 4), (9, 3, 4), (8, 3, 1)]\n"
     ]
    },
    {
     "data": {
      "text/plain": [
       "array([[0, 2, 0, 6, 0],\n",
       "       [2, 0, 3, 0, 5],\n",
       "       [0, 3, 0, 0, 0],\n",
       "       [6, 0, 0, 0, 0],\n",
       "       [0, 5, 0, 0, 0]])"
      ]
     },
     "execution_count": 118,
     "metadata": {},
     "output_type": "execute_result"
    }
   ],
   "source": [
    "prim(g4)"
   ]
  },
  {
   "cell_type": "code",
   "execution_count": 46,
   "id": "9dfaeb76",
   "metadata": {},
   "outputs": [
    {
     "data": {
      "text/plain": [
       "array([0., 5., 0., 5.])"
      ]
     },
     "execution_count": 46,
     "metadata": {},
     "output_type": "execute_result"
    }
   ],
   "source": [
    "g[0]"
   ]
  },
  {
   "cell_type": "code",
   "execution_count": null,
   "id": "20590a0d",
   "metadata": {},
   "outputs": [],
   "source": []
  },
  {
   "cell_type": "code",
   "execution_count": 47,
   "id": "9906d406",
   "metadata": {},
   "outputs": [
    {
     "data": {
      "text/plain": [
       "range(0, 4)"
      ]
     },
     "execution_count": 47,
     "metadata": {},
     "output_type": "execute_result"
    }
   ],
   "source": [
    "range(len(g))"
   ]
  },
  {
   "cell_type": "code",
   "execution_count": 26,
   "id": "ea12ec27",
   "metadata": {},
   "outputs": [
    {
     "name": "stdout",
     "output_type": "stream",
     "text": [
      "[[0. 5. 0. 5.]\n",
      " [5. 0. 1. 2.]\n",
      " [0. 1. 0. 4.]\n",
      " [5. 2. 4. 0.]]\n"
     ]
    }
   ],
   "source": [
    "print(g)"
   ]
  },
  {
   "cell_type": "code",
   "execution_count": 45,
   "id": "25e6c197",
   "metadata": {},
   "outputs": [
    {
     "data": {
      "text/plain": [
       "5.0"
      ]
     },
     "execution_count": 45,
     "metadata": {},
     "output_type": "execute_result"
    }
   ],
   "source": [
    "g[0,1]"
   ]
  },
  {
   "cell_type": "code",
   "execution_count": null,
   "id": "2e1744f0",
   "metadata": {},
   "outputs": [],
   "source": [
    "m = mst.Graph('data/small.csv')\n",
    "m.adj_mat"
   ]
  },
  {
   "cell_type": "code",
   "execution_count": 100,
   "id": "6584ec0c",
   "metadata": {},
   "outputs": [],
   "source": [
    "g2 = np.array([\n",
    "    [0, 2, 3, 0, 0],\n",
    "    [2, 0, 5, 3, 0],\n",
    "    [3, 5, 0, 4, 0],\n",
    "    [0, 3, 4, 0, 0],\n",
    "    [0, 0, 0, 0, 0],\n",
    "])\n",
    "\n",
    "g4 = np.array( [[0, 2, 0, 6, 0],\n",
    "               [2, 0, 3, 8, 5],\n",
    "               [0, 3, 0, 0, 7],\n",
    "               [6, 8, 0, 0, 9],\n",
    "               [0, 5, 7, 9, 0]])\n"
   ]
  },
  {
   "cell_type": "code",
   "execution_count": null,
   "id": "ee2ed47a",
   "metadata": {},
   "outputs": [],
   "source": []
  }
 ],
 "metadata": {
  "kernelspec": {
   "display_name": "Python 3 (ipykernel)",
   "language": "python",
   "name": "python3"
  },
  "language_info": {
   "codemirror_mode": {
    "name": "ipython",
    "version": 3
   },
   "file_extension": ".py",
   "mimetype": "text/x-python",
   "name": "python",
   "nbconvert_exporter": "python",
   "pygments_lexer": "ipython3",
   "version": "3.9.12"
  }
 },
 "nbformat": 4,
 "nbformat_minor": 5
}
