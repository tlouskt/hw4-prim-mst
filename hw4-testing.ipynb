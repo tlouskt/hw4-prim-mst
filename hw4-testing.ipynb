{
 "cells": [
  {
   "cell_type": "code",
   "execution_count": 1,
   "id": "c883e915",
   "metadata": {},
   "outputs": [],
   "source": [
    "import mst\n",
    "import numpy as np\n",
    "import heapq\n",
    "from typing import Union"
   ]
  },
  {
   "cell_type": "code",
   "execution_count": 2,
   "id": "31b411aa",
   "metadata": {},
   "outputs": [
    {
     "data": {
      "text/plain": [
       "array([[0., 5., 0., 5.],\n",
       "       [5., 0., 1., 2.],\n",
       "       [0., 1., 0., 4.],\n",
       "       [5., 2., 4., 0.]])"
      ]
     },
     "execution_count": 2,
     "metadata": {},
     "output_type": "execute_result"
    }
   ],
   "source": [
    "adjacency_mat = mst.Graph('data/small.csv')\n",
    "adjacency_mat.adj_mat"
   ]
  },
  {
   "cell_type": "code",
   "execution_count": 4,
   "id": "ce539543",
   "metadata": {},
   "outputs": [
    {
     "data": {
      "text/plain": [
       "4"
      ]
     },
     "execution_count": 4,
     "metadata": {},
     "output_type": "execute_result"
    }
   ],
   "source": [
    "len(adjacency_mat.adj_mat)"
   ]
  },
  {
   "cell_type": "code",
   "execution_count": 37,
   "id": "72e125f4",
   "metadata": {},
   "outputs": [],
   "source": [
    "import networkx as nx\n",
    "import matplotlib.pyplot as plt"
   ]
  },
  {
   "cell_type": "code",
   "execution_count": 24,
   "id": "5d7ffe53",
   "metadata": {
    "scrolled": true
   },
   "outputs": [
    {
     "data": {
      "image/png": "[encoded data removed]",
      "text/plain": [
       "<Figure size 432x288 with 1 Axes>"
      ]
     },
     "metadata": {},
     "output_type": "display_data"
    }
   ],
   "source": [
    "g_vis = nx.from_numpy_array(g)\n",
    "nx.draw(g_vis, with_labels = True)\n",
    "labels = nx.get_edge_attributes(g_vis,'weight')\n",
    "nx.draw_networkx_edge_labels(g_vis, pos=nx.spring_layout(g_vis), edge_labels=labels)\n",
    "plt.show()"
   ]
  },
  {
   "cell_type": "code",
   "execution_count": 33,
   "id": "8d78f155",
   "metadata": {},
   "outputs": [],
   "source": [
    "g = adjacency_mat.adj_mat"
   ]
  },
  {
   "cell_type": "code",
   "execution_count": 34,
   "id": "eabf6610",
   "metadata": {},
   "outputs": [
    {
     "data": {
      "text/plain": [
       "4"
      ]
     },
     "execution_count": 34,
     "metadata": {},
     "output_type": "execute_result"
    }
   ],
   "source": [
    "g.shape[0]"
   ]
  },
  {
   "cell_type": "code",
   "execution_count": 35,
   "id": "49973351",
   "metadata": {},
   "outputs": [
    {
     "data": {
      "text/plain": [
       "numpy.ndarray"
      ]
     },
     "execution_count": 35,
     "metadata": {},
     "output_type": "execute_result"
    }
   ],
   "source": [
    "type(g)"
   ]
  },
  {
   "cell_type": "code",
   "execution_count": 37,
   "id": "4faaf293",
   "metadata": {},
   "outputs": [
    {
     "name": "stdout",
     "output_type": "stream",
     "text": [
      "1\n"
     ]
    }
   ],
   "source": [
    "start = np.random.randint(len(g))\n",
    "print(start)"
   ]
  },
  {
   "cell_type": "code",
   "execution_count": 38,
   "id": "65442c8a",
   "metadata": {},
   "outputs": [
    {
     "name": "stdout",
     "output_type": "stream",
     "text": [
      "[(0, 1)]\n"
     ]
    }
   ],
   "source": [
    "heap = [(0, start)]\n",
    "print(heap)"
   ]
  },
  {
   "cell_type": "code",
   "execution_count": 39,
   "id": "05aa4781",
   "metadata": {},
   "outputs": [
    {
     "name": "stdout",
     "output_type": "stream",
     "text": [
      "[[0. 0. 0. 0.]\n",
      " [0. 0. 0. 0.]\n",
      " [0. 0. 0. 0.]\n",
      " [0. 0. 0. 0.]]\n",
      "<class 'numpy.ndarray'>\n"
     ]
    }
   ],
   "source": [
    "mst = np.zeros_like(g)\n",
    "print(mst)\n",
    "print(type(mst))"
   ]
  },
  {
   "cell_type": "code",
   "execution_count": 40,
   "id": "e028ff3c",
   "metadata": {},
   "outputs": [
    {
     "name": "stdout",
     "output_type": "stream",
     "text": [
      "{1}\n"
     ]
    }
   ],
   "source": [
    "visited = set()\n",
    "visited.add(start)\n",
    "print(visited)"
   ]
  },
  {
   "cell_type": "code",
   "execution_count": 41,
   "id": "0e64ca01",
   "metadata": {},
   "outputs": [
    {
     "name": "stdout",
     "output_type": "stream",
     "text": [
      "4\n",
      "<class 'int'>\n"
     ]
    }
   ],
   "source": [
    "total_nodes = len(g)\n",
    "print(total_nodes)\n",
    "print(type(total_nodes))"
   ]
  },
  {
   "cell_type": "code",
   "execution_count": 42,
   "id": "3b69c76b",
   "metadata": {},
   "outputs": [
    {
     "name": "stdout",
     "output_type": "stream",
     "text": [
      "0 1\n"
     ]
    }
   ],
   "source": [
    "weight, to = heapq.heappop(heap)\n",
    "print(weight, to)"
   ]
  },
  {
   "cell_type": "code",
   "execution_count": 43,
   "id": "17f3130e",
   "metadata": {},
   "outputs": [
    {
     "name": "stdout",
     "output_type": "stream",
     "text": [
      "[(0, 5.0), (1, 2.0), (2, 4.0), (3, 0.0)]\n"
     ]
    }
   ],
   "source": [
    "enumerate(g[3])\n",
    "print(list(enumerate(g[3])))"
   ]
  },
  {
   "cell_type": "code",
   "execution_count": 44,
   "id": "3574aad9",
   "metadata": {},
   "outputs": [],
   "source": [
    "g = adjacency_mat.adj_mat\n",
    "start = start = np.random.randint(len(g))\n",
    "visited = set([start])\n",
    "\n",
    "total_nodes = set(range(len(g)))\n",
    "\n",
    "mst = np.zeros_like(g)\n",
    "heap = [(0, start)]"
   ]
  },
  {
   "cell_type": "code",
   "execution_count": null,
   "id": "6dbe2839",
   "metadata": {},
   "outputs": [],
   "source": [
    "print(heap)"
   ]
  },
  {
   "cell_type": "code",
   "execution_count": null,
   "id": "4621893b",
   "metadata": {},
   "outputs": [],
   "source": [
    "while visited != total_nodes:\n",
    "    if len(heap) == 0:\n",
    "        print('heap is empty')\n",
    "    weight, to = heapq.heappop(heap)\n",
    "    if to in visited:\n",
    "        continue\n",
    "    visited.add(to)\n",
    "    for idx, edge_val in enumerate(g[to]):\n",
    "        if edge_val != 0 and idx not in visited:\n",
    "            heapq.heappush(heap, (edge_val, idx))\n",
    "            mst[to, idx] = mst edge_val\n",
    "            mst[idx, to] = edge_val\n",
    "            \n",
    "   "
   ]
  },
  {
   "cell_type": "code",
   "execution_count": 69,
   "id": "c6f9691d",
   "metadata": {},
   "outputs": [
    {
     "data": {
      "text/plain": [
       "5.0"
      ]
     },
     "execution_count": 69,
     "metadata": {},
     "output_type": "execute_result"
    }
   ],
   "source": [
    "g[0,3]"
   ]
  },
  {
   "cell_type": "code",
   "execution_count": 60,
   "id": "18565937",
   "metadata": {},
   "outputs": [
    {
     "name": "stdout",
     "output_type": "stream",
     "text": [
      "range(0, 4)\n",
      "4\n"
     ]
    }
   ],
   "source": [
    "print(range(len(g)))\n",
    "print(len(g))"
   ]
  },
  {
   "cell_type": "code",
   "execution_count": 154,
   "id": "d82aa2e9",
   "metadata": {},
   "outputs": [
    {
     "name": "stdout",
     "output_type": "stream",
     "text": [
      "{0}\n"
     ]
    }
   ],
   "source": [
    "num_nodes = len(g)\n",
    "mst=np.zeros_like(g)\n",
    "#start = np.random.randint(0, num_nodes)\n",
    "start = 0\n",
    "edge_heap = []\n",
    "heapq.heapify(edge_heap)\n",
    "visited=set([start])\n",
    "print(visited)"
   ]
  },
  {
   "cell_type": "code",
   "execution_count": 155,
   "id": "a3ef0f41",
   "metadata": {},
   "outputs": [],
   "source": [
    "for n in range(num_nodes):\n",
    "    weight = g[start, n]\n",
    "    if weight != 0:\n",
    "        heapq.heappush(edge_heap, (weight, start, n))"
   ]
  },
  {
   "cell_type": "code",
   "execution_count": 156,
   "id": "780cf827",
   "metadata": {},
   "outputs": [
    {
     "name": "stdout",
     "output_type": "stream",
     "text": [
      "[(5.0, 0, 1), (5.0, 0, 3)]\n"
     ]
    }
   ],
   "source": [
    "print(edge_heap)"
   ]
  },
  {
   "cell_type": "code",
   "execution_count": 157,
   "id": "4ccc3783",
   "metadata": {},
   "outputs": [],
   "source": [
    "visited.add(start)"
   ]
  },
  {
   "cell_type": "code",
   "execution_count": 158,
   "id": "f2b0ee27",
   "metadata": {
    "scrolled": true
   },
   "outputs": [
    {
     "name": "stdout",
     "output_type": "stream",
     "text": [
      "[(5.0, 0, 1), (5.0, 0, 3)]\n",
      "[(5.0, 0, 3)]\n",
      "[(1.0, 1, 2), (2.0, 1, 3), (5.0, 0, 3), (5.0, 1, 0)]\n",
      "[(2.0, 1, 3), (5.0, 1, 0), (5.0, 0, 3)]\n",
      "[(1.0, 2, 1), (2.0, 1, 3), (5.0, 0, 3), (5.0, 1, 0), (4.0, 2, 3)]\n",
      "[(2.0, 1, 3), (4.0, 2, 3), (5.0, 0, 3), (5.0, 1, 0)]\n",
      "[(2.0, 1, 3), (4.0, 2, 3), (5.0, 0, 3), (5.0, 1, 0)]\n",
      "[(4.0, 2, 3), (5.0, 1, 0), (5.0, 0, 3)]\n"
     ]
    },
    {
     "data": {
      "text/plain": [
       "array([[0., 5., 0., 0.],\n",
       "       [5., 0., 1., 2.],\n",
       "       [0., 1., 0., 0.],\n",
       "       [0., 2., 0., 0.]])"
      ]
     },
     "execution_count": 158,
     "metadata": {},
     "output_type": "execute_result"
    }
   ],
   "source": [
    "while len(visited) != num_nodes:\n",
    "    print(edge_heap)\n",
    "    weight, start, to = heapq.heappop(edge_heap)\n",
    "    print(edge_heap)\n",
    "    \n",
    "    if to in visited:\n",
    "        continue\n",
    "    visited.add(to)\n",
    "    mst[start,to] = mst [to, start] = weight\n",
    "    \n",
    "    for n in range(num_nodes):\n",
    "        weight = g[to, n]\n",
    "        if weight != 0:\n",
    "            heapq.heappush(edge_heap, (weight, to, n))\n",
    "            \n",
    "mst"
   ]
  },
  {
   "cell_type": "code",
   "execution_count": 2,
   "id": "f88506eb",
   "metadata": {},
   "outputs": [],
   "source": [
    "def prim(graph):\n",
    "    \n",
    "    if np.sum(graph) == 0:\n",
    "        raise ValueError('No edge exists')\n",
    "    \n",
    "    num_nodes = len(graph)\n",
    "    mst=np.zeros_like(graph)\n",
    "    start = np.random.randint(0, num_nodes)\n",
    "    edge_heap = []\n",
    "    visited=set([start])\n",
    "    \n",
    "    for n in range(num_nodes):\n",
    "        weight = graph[start, n]\n",
    "        if weight == 0:\n",
    "            continue\n",
    "        heapq.heappush(edge_heap, (weight, start, n))\n",
    "        heapq.heapify(edge_heap)\n",
    "        print(edge_heap)\n",
    "            \n",
    "    while len(visited) != num_nodes:\n",
    "        \n",
    "        if len(edge_heap) == 0:\n",
    "            raise ValueError('Heap is empty. Nodes are not connected')\n",
    "        \n",
    "        weight, start, to = heapq.heappop(edge_heap)\n",
    "        heapq.heapify(edge_heap)\n",
    "        #print(edge_heap)\n",
    "\n",
    "        if to in visited:\n",
    "            continue\n",
    "        visited.add(to)\n",
    "        mst[start,to] = mst [to, start] = weight\n",
    "\n",
    "        for n in range(num_nodes):\n",
    "            weight = graph[to, n]\n",
    "            if weight != 0:\n",
    "                heapq.heappush(edge_heap, (weight, to, n))\n",
    "                heapq.heapify(edge_heap)\n",
    "    return mst"
   ]
  },
  {
   "cell_type": "code",
   "execution_count": 151,
   "id": "ff116eda",
   "metadata": {},
   "outputs": [
    {
     "name": "stdout",
     "output_type": "stream",
     "text": [
      "[(5.0, 1, 0)]\n",
      "[(1.0, 1, 2), (5.0, 1, 0)]\n",
      "[(1.0, 1, 2), (5.0, 1, 0), (2.0, 1, 3)]\n"
     ]
    }
   ],
   "source": [
    "mst_small = prim(g)"
   ]
  },
  {
   "cell_type": "code",
   "execution_count": 148,
   "id": "7ad59c60",
   "metadata": {},
   "outputs": [
    {
     "data": {
      "text/plain": [
       "array([[0., 5., 0., 0.],\n",
       "       [5., 0., 1., 2.],\n",
       "       [0., 1., 0., 0.],\n",
       "       [0., 2., 0., 0.]])"
      ]
     },
     "execution_count": 148,
     "metadata": {},
     "output_type": "execute_result"
    }
   ],
   "source": [
    "mst_small"
   ]
  },
  {
   "cell_type": "code",
   "execution_count": 126,
   "id": "30d047ec",
   "metadata": {},
   "outputs": [
    {
     "data": {
      "text/plain": [
       "16.0"
      ]
     },
     "execution_count": 126,
     "metadata": {},
     "output_type": "execute_result"
    }
   ],
   "source": [
    "np.sum(mst_small)"
   ]
  },
  {
   "cell_type": "code",
   "execution_count": 118,
   "id": "9a07b86f",
   "metadata": {},
   "outputs": [
    {
     "name": "stdout",
     "output_type": "stream",
     "text": [
      "[(8, 3, 1), (9, 3, 4)]\n",
      "[(6, 0, 3), (9, 3, 4), (8, 3, 1)]\n",
      "[(3, 1, 2), (6, 0, 3), (5, 1, 4), (9, 3, 4), (8, 1, 3), (8, 3, 1)]\n",
      "[(5, 1, 4), (6, 0, 3), (8, 3, 1), (9, 3, 4), (8, 1, 3)]\n",
      "[(5, 1, 4), (6, 0, 3), (7, 2, 4), (9, 3, 4), (8, 1, 3), (8, 3, 1)]\n",
      "[(6, 0, 3), (8, 1, 3), (7, 2, 4), (9, 3, 4), (8, 3, 1)]\n"
     ]
    },
    {
     "data": {
      "text/plain": [
       "array([[0, 2, 0, 6, 0],\n",
       "       [2, 0, 3, 0, 5],\n",
       "       [0, 3, 0, 0, 0],\n",
       "       [6, 0, 0, 0, 0],\n",
       "       [0, 5, 0, 0, 0]])"
      ]
     },
     "execution_count": 118,
     "metadata": {},
     "output_type": "execute_result"
    }
   ],
   "source": [
    "prim(g4)"
   ]
  },
  {
   "cell_type": "code",
   "execution_count": 46,
   "id": "5b26f0e1",
   "metadata": {},
   "outputs": [
    {
     "data": {
      "text/plain": [
       "array([0., 5., 0., 5.])"
      ]
     },
     "execution_count": 46,
     "metadata": {},
     "output_type": "execute_result"
    }
   ],
   "source": [
    "g[0]"
   ]
  },
  {
   "cell_type": "code",
   "execution_count": null,
   "id": "3ebc665e",
   "metadata": {},
   "outputs": [],
   "source": []
  },
  {
   "cell_type": "code",
   "execution_count": 47,
   "id": "8565bd89",
   "metadata": {},
   "outputs": [
    {
     "data": {
      "text/plain": [
       "range(0, 4)"
      ]
     },
     "execution_count": 47,
     "metadata": {},
     "output_type": "execute_result"
    }
   ],
   "source": [
    "range(len(g))"
   ]
  },
  {
   "cell_type": "code",
   "execution_count": 26,
   "id": "d6fbe750",
   "metadata": {},
   "outputs": [
    {
     "name": "stdout",
     "output_type": "stream",
     "text": [
      "[[0. 5. 0. 5.]\n",
      " [5. 0. 1. 2.]\n",
      " [0. 1. 0. 4.]\n",
      " [5. 2. 4. 0.]]\n"
     ]
    }
   ],
   "source": [
    "print(g)"
   ]
  },
  {
   "cell_type": "code",
   "execution_count": 45,
   "id": "e73fdbb4",
   "metadata": {},
   "outputs": [
    {
     "data": {
      "text/plain": [
       "5.0"
      ]
     },
     "execution_count": 45,
     "metadata": {},
     "output_type": "execute_result"
    }
   ],
   "source": [
    "g[0,1]"
   ]
  },
  {
   "cell_type": "code",
   "execution_count": 3,
   "id": "b947b818",
   "metadata": {},
   "outputs": [],
   "source": [
    "g2 = np.array([\n",
    "    [0, 2, 3, 0, 0],\n",
    "    [2, 0, 5, 3, 0],\n",
    "    [3, 5, 0, 4, 0],\n",
    "    [0, 3, 4, 0, 0],\n",
    "    [0, 0, 0, 0, 0],\n",
    "])\n",
    "\n",
    "g4 = np.array( [[0, 2, 0, 6, 0],\n",
    "               [2, 0, 3, 8, 5],\n",
    "               [0, 3, 0, 0, 7],\n",
    "               [6, 8, 0, 0, 9],\n",
    "               [0, 5, 7, 9, 0]])\n"
   ]
  },
  {
   "cell_type": "code",
   "execution_count": 10,
   "id": "89318d21",
   "metadata": {},
   "outputs": [],
   "source": [
    "m = mst.Graph('data/small.csv')"
   ]
  },
  {
   "cell_type": "code",
   "execution_count": 11,
   "id": "13bf3b9d",
   "metadata": {},
   "outputs": [
    {
     "name": "stdout",
     "output_type": "stream",
     "text": [
      "[[0. 5. 0. 0.]\n",
      " [5. 0. 1. 2.]\n",
      " [0. 1. 0. 0.]\n",
      " [0. 2. 0. 0.]]\n"
     ]
    }
   ],
   "source": [
    "m.construct_mst()\n",
    "final = m.mst\n",
    "print(final)"
   ]
  },
  {
   "cell_type": "code",
   "execution_count": 12,
   "id": "ddf75ee5",
   "metadata": {},
   "outputs": [
    {
     "data": {
      "text/plain": [
       "8.0"
      ]
     },
     "execution_count": 12,
     "metadata": {},
     "output_type": "execute_result"
    }
   ],
   "source": [
    "np.sum(m.mst) // 2"
   ]
  },
  {
   "cell_type": "code",
   "execution_count": 22,
   "id": "7d0878d0",
   "metadata": {},
   "outputs": [],
   "source": [
    "assert np.allclose(final, final.T, rtol=1e-05, atol=1e-08) == True"
   ]
  },
  {
   "cell_type": "code",
   "execution_count": 23,
   "id": "95b5a65d",
   "metadata": {},
   "outputs": [
    {
     "data": {
      "text/plain": [
       "(4, 4)"
      ]
     },
     "execution_count": 23,
     "metadata": {},
     "output_type": "execute_result"
    }
   ],
   "source": [
    "g.shape"
   ]
  },
  {
   "cell_type": "code",
   "execution_count": 24,
   "id": "4755bd69",
   "metadata": {},
   "outputs": [
    {
     "data": {
      "text/plain": [
       "(4, 4)"
      ]
     },
     "execution_count": 24,
     "metadata": {},
     "output_type": "execute_result"
    }
   ],
   "source": [
    "final.shape"
   ]
  },
  {
   "cell_type": "code",
   "execution_count": 30,
   "id": "89c2235c",
   "metadata": {},
   "outputs": [
    {
     "data": {
      "text/plain": [
       "3"
      ]
     },
     "execution_count": 30,
     "metadata": {},
     "output_type": "execute_result"
    }
   ],
   "source": [
    "np.count_nonzero(final) // 2"
   ]
  },
  {
   "cell_type": "code",
   "execution_count": 29,
   "id": "dba736a8",
   "metadata": {},
   "outputs": [
    {
     "data": {
      "text/plain": [
       "4"
      ]
     },
     "execution_count": 29,
     "metadata": {},
     "output_type": "execute_result"
    }
   ],
   "source": [
    "len(g)"
   ]
  },
  {
   "cell_type": "code",
   "execution_count": 34,
   "id": "b6a416c3",
   "metadata": {},
   "outputs": [],
   "source": [
    "for i in range(final.shape[0]):\n",
    "    if np.count_nonzero(final[i]) == 0:\n",
    "        print(\"True\")"
   ]
  },
  {
   "cell_type": "code",
   "execution_count": 40,
   "id": "bf340c89",
   "metadata": {},
   "outputs": [
    {
     "data": {
      "image/png": "[encoded data removed]",
      "text/plain": [
       "<Figure size 432x288 with 1 Axes>"
      ]
     },
     "metadata": {},
     "output_type": "display_data"
    }
   ],
   "source": [
    "un = np.array([[0., 0., 0., 0.],\n",
    "               [0., 0., 1., 2.],\n",
    "               [0., 1., 0., 4.],\n",
    "               [0., 2., 4., 0.]])\n",
    "\n",
    "un_vis = nx.from_numpy_array(un)\n",
    "nx.draw(un_vis, with_labels = True)\n",
    "labels = nx.get_edge_attributes(un_vis,'weight')\n",
    "nx.draw_networkx_edge_labels(un_vis, pos=nx.spring_layout(un_vis), edge_labels=labels)\n",
    "plt.show()"
   ]
  },
  {
   "cell_type": "code",
   "execution_count": 7,
   "id": "757620ae",
   "metadata": {},
   "outputs": [
    {
     "name": "stdout",
     "output_type": "stream",
     "text": [
      "[(6, 3, 0)]\n",
      "[(6, 3, 0), (8, 3, 1)]\n",
      "[(6, 3, 0), (8, 3, 1), (9, 3, 4)]\n",
      "[[0 2 0 6 0]\n",
      " [2 0 3 0 5]\n",
      " [0 3 0 0 0]\n",
      " [6 0 0 0 0]\n",
      " [0 5 0 0 0]]\n"
     ]
    }
   ],
   "source": [
    "g4_mst = prim(g4)\n",
    "print(g4_mst)"
   ]
  },
  {
   "cell_type": "code",
   "execution_count": 9,
   "id": "c4621fec",
   "metadata": {},
   "outputs": [
    {
     "data": {
      "text/plain": [
       "16"
      ]
     },
     "execution_count": 9,
     "metadata": {},
     "output_type": "execute_result"
    }
   ],
   "source": [
    "weight = np.sum(g4_mst) // 2\n",
    "weight"
   ]
  },
  {
   "cell_type": "code",
   "execution_count": null,
   "id": "a87c871d",
   "metadata": {},
   "outputs": [],
   "source": []
  }
 ],
 "metadata": {
  "kernelspec": {
   "display_name": "Python 3 (ipykernel)",
   "language": "python",
   "name": "python3"
  },
  "language_info": {
   "codemirror_mode": {
    "name": "ipython",
    "version": 3
   },
   "file_extension": ".py",
   "mimetype": "text/x-python",
   "name": "python",
   "nbconvert_exporter": "python",
   "pygments_lexer": "ipython3",
   "version": "3.9.12"
  }
 },
 "nbformat": 4,
 "nbformat_minor": 5
}
